{
 "cells": [
  {
   "cell_type": "code",
   "execution_count": 1,
   "id": "5ceef53e-3f56-414a-a077-8def656e35cd",
   "metadata": {},
   "outputs": [],
   "source": [
    "import geopandas as gpd \n",
    "import pandas as pd\n",
    "import numpy as np \n",
    "import os \n",
    "import glob"
   ]
  },
  {
   "cell_type": "code",
   "execution_count": 2,
   "id": "adf87cef-97b9-40d6-b3ef-09f388c27e2f",
   "metadata": {},
   "outputs": [
    {
     "data": {
      "text/html": [
       "<p>To authorize access needed by Earth Engine, open the following\n",
       "        URL in a web browser and follow the instructions:</p>\n",
       "        <p><a href=https://code.earthengine.google.com/client-auth?scopes=https%3A//www.googleapis.com/auth/earthengine%20https%3A//www.googleapis.com/auth/devstorage.full_control&request_id=IuNYLITRprB-WCL7vBtP3vyoGdhygTIK9xZYc2ZLcv0&tc=ZVFCmb2HLUaIP56ASN4wEBYn_rKDavyNBQG1WQtsrTs&cc=_y36JeTZjWnkufxqrCcYbGkK_zhpIRa7sG0cLfOh-G0>https://code.earthengine.google.com/client-auth?scopes=https%3A//www.googleapis.com/auth/earthengine%20https%3A//www.googleapis.com/auth/devstorage.full_control&request_id=IuNYLITRprB-WCL7vBtP3vyoGdhygTIK9xZYc2ZLcv0&tc=ZVFCmb2HLUaIP56ASN4wEBYn_rKDavyNBQG1WQtsrTs&cc=_y36JeTZjWnkufxqrCcYbGkK_zhpIRa7sG0cLfOh-G0</a></p>\n",
       "        <p>The authorization workflow will generate a code, which you should paste in the box below.</p>\n",
       "        "
      ],
      "text/plain": [
       "<IPython.core.display.HTML object>"
      ]
     },
     "metadata": {},
     "output_type": "display_data"
    },
    {
     "name": "stdin",
     "output_type": "stream",
     "text": [
      "Enter verification code:  4/1AfJohXkONKRZC1bogHttCZFs4-mW3ZXUvdUs-zmJRrSks_PDM15qj4fazOg\n"
     ]
    },
    {
     "name": "stdout",
     "output_type": "stream",
     "text": [
      "\n",
      "Successfully saved authorization token.\n"
     ]
    }
   ],
   "source": [
    "import geemap\n",
    "import ee\n",
    "ee.Authenticate()\n",
    "ee.Initialize()"
   ]
  },
  {
   "cell_type": "markdown",
   "id": "9b5b0d4c-8528-40e0-8cad-db98f87702a3",
   "metadata": {
    "tags": []
   },
   "source": [
    "# Filtro y manipulación de datos"
   ]
  },
  {
   "cell_type": "code",
   "execution_count": 3,
   "id": "365ee64e-621e-4696-9f55-6089622da6b1",
   "metadata": {},
   "outputs": [],
   "source": [
    "# Obtener todos los archivos .shp en el directorio\n",
    "archivos_shp = glob.glob('TIF4Stats/Raster_RF_Clip/MA_RF_Class/*.shp')\n",
    "\n",
    "# Leer cada archivo en un GeoDataFrame y almacenar en una lista\n",
    "geodataframes = [gpd.read_file(archivo) for archivo in archivos_shp]\n",
    "\n",
    "geodataframes;"
   ]
  },
  {
   "cell_type": "code",
   "execution_count": 4,
   "id": "91b2e045-19f1-4dd0-b6b5-4d03f148efea",
   "metadata": {},
   "outputs": [
    {
     "data": {
      "text/plain": [
       "array(['Aptitud Alta', 'Aptitud Alta Baja', 'Aptitud Media Alta'],\n",
       "      dtype=object)"
      ]
     },
     "execution_count": 4,
     "metadata": {},
     "output_type": "execute_result"
    }
   ],
   "source": [
    "geodataframes[0].Descrip.unique()"
   ]
  },
  {
   "cell_type": "code",
   "execution_count": 5,
   "id": "90aba0c5-c968-4dda-a9d1-2c0827c78677",
   "metadata": {},
   "outputs": [],
   "source": [
    "palabras = ['Aptitud Alta', 'Aptitud Alta Baja', 'Aptitud Media Alta']\n",
    "filtros = [gdf[gdf['Descrip'].isin(palabras)] for gdf in geodataframes]"
   ]
  },
  {
   "cell_type": "code",
   "execution_count": 63,
   "id": "a3a3e969-cd15-4374-bae2-30760d1e81a7",
   "metadata": {},
   "outputs": [
    {
     "data": {
      "text/plain": [
       "['/Raster_RF_Clip/MA_RF_Class\\\\MA_RF_Class_MaizEdo_CanOE_ssp126_2021-2040.shp',\n",
       " '/Raster_RF_Clip/MA_RF_Class\\\\MA_RF_Class_MaizEdo_CanOE_ssp126_2041-2060.shp',\n",
       " '/Raster_RF_Clip/MA_RF_Class\\\\MA_RF_Class_MaizEdo_CanOE_ssp126_2061-2080.shp',\n",
       " '/Raster_RF_Clip/MA_RF_Class\\\\MA_RF_Class_MaizEdo_CanOE_ssp370_2021-2040.shp',\n",
       " '/Raster_RF_Clip/MA_RF_Class\\\\MA_RF_Class_MaizEdo_CanOE_ssp370_2041-2060.shp',\n",
       " '/Raster_RF_Clip/MA_RF_Class\\\\MA_RF_Class_MaizEdo_CanOE_ssp370_2061-2080.shp',\n",
       " '/Raster_RF_Clip/MA_RF_Class\\\\MA_RF_Class_MaizEdo_GDFL_ssp126_2021-2040.shp',\n",
       " '/Raster_RF_Clip/MA_RF_Class\\\\MA_RF_Class_MaizEdo_GDFL_ssp126_2041-2060.shp',\n",
       " '/Raster_RF_Clip/MA_RF_Class\\\\MA_RF_Class_MaizEdo_GDFL_ssp126_2061-2080.shp',\n",
       " '/Raster_RF_Clip/MA_RF_Class\\\\MA_RF_Class_MaizEdo_GDFL_ssp370_2021-2040.shp',\n",
       " '/Raster_RF_Clip/MA_RF_Class\\\\MA_RF_Class_MaizEdo_GDFL_ssp370_2041-2060.shp',\n",
       " '/Raster_RF_Clip/MA_RF_Class\\\\MA_RF_Class_MaizEdo_GDFL_ssp370_2061-370.shp']"
      ]
     },
     "execution_count": 63,
     "metadata": {},
     "output_type": "execute_result"
    }
   ],
   "source": [
    "ls=[]\n",
    "for i in archivos_shp:\n",
    "    ls.append(f'{i[9:]}')\n",
    "ls"
   ]
  },
  {
   "cell_type": "code",
   "execution_count": 7,
   "id": "cd11d977-1875-453a-9a7b-5b26dc46e173",
   "metadata": {},
   "outputs": [],
   "source": [
    "# for gdf, nombre in zip(filtros, ls):\n",
    "#     gdf.to_file(nombre)"
   ]
  },
  {
   "cell_type": "code",
   "execution_count": 8,
   "id": "7b80c7fd-97e0-4082-b6f0-0aa092af6d64",
   "metadata": {},
   "outputs": [],
   "source": [
    "archivos_shp = glob.glob('TIF4Stats/Raster_RF_Clip/MA_RF_Class/*.shp')\n",
    "archivos_raster = glob.glob('TIF4Stats/*.tif')"
   ]
  },
  {
   "cell_type": "code",
   "execution_count": 10,
   "id": "2aee53b4-b082-41ce-82bc-34094f21cb15",
   "metadata": {},
   "outputs": [],
   "source": [
    "out= 'MunClip' "
   ]
  },
  {
   "cell_type": "code",
   "execution_count": 11,
   "id": "4233b455-6de5-4e13-a731-4257c5550c76",
   "metadata": {},
   "outputs": [
    {
     "data": {
      "text/plain": [
       "['AptAlt_RF_Class_MaizEdo_CanOE_ssp126_2021-2040.tif',\n",
       " 'AptAlt_RF_Class_MaizEdo_CanOE_ssp126_2041-2060.tif',\n",
       " 'AptAlt_RF_Class_MaizEdo_CanOE_ssp126_2061-2080.tif',\n",
       " 'AptAlt_RF_Class_MaizEdo_CanOE_ssp370_2021-2040.tif',\n",
       " 'AptAlt_RF_Class_MaizEdo_CanOE_ssp370_2041-2060.tif',\n",
       " 'AptAlt_RF_Class_MaizEdo_CanOE_ssp370_2061-2080.tif',\n",
       " 'AptAlt_RF_Class_MaizEdo_GDFL_ssp126_2021-2040.tif',\n",
       " 'AptAlt_RF_Class_MaizEdo_GDFL_ssp126_2041-2060.tif',\n",
       " 'AptAlt_RF_Class_MaizEdo_GDFL_ssp126_2061-2080.tif',\n",
       " 'AptAlt_RF_Class_MaizEdo_GDFL_ssp370_2021-2040.tif',\n",
       " 'AptAlt_RF_Class_MaizEdo_GDFL_ssp370_2041-2060.tif',\n",
       " 'AptAlt_RF_Class_MaizEdo_GDFL_ssp370_2061-370.tif']"
      ]
     },
     "execution_count": 11,
     "metadata": {},
     "output_type": "execute_result"
    }
   ],
   "source": [
    "out=[]\n",
    "for i in archivos_raster:\n",
    "    out.append(f'AptAlt_{i[10:]}')\n",
    "out"
   ]
  },
  {
   "cell_type": "code",
   "execution_count": 12,
   "id": "d882ae54-4f55-43fa-bf1f-036932bb6967",
   "metadata": {},
   "outputs": [],
   "source": [
    "#La lista de out almacena las rutas de salida de salida \n",
    "#La lista de geodataframes almacena las gfds --> pero se require que esta lista sea de las rutas a los \n",
    "#geodataframes. La lista archivos_shp almacena las rutas de los shapes\n",
    "#La lista de "
   ]
  },
  {
   "cell_type": "code",
   "execution_count": 13,
   "id": "5f4833ad-8943-4df7-8b8a-8e13a00f29a7",
   "metadata": {},
   "outputs": [],
   "source": [
    "#La función de geemap recibe como parametros de entrada la imagen, la mascara y por ultimo se le da una ruta de sallida "
   ]
  },
  {
   "cell_type": "code",
   "execution_count": 14,
   "id": "57f94717-560c-42ef-bb62-d4e15dd5b117",
   "metadata": {},
   "outputs": [
    {
     "data": {
      "text/plain": [
       "['TIF4Stats/Raster_RF_Clip/MA_RF_Class\\\\MA_RF_Class_MaizEdo_CanOE_ssp126_2021-2040.shp',\n",
       " 'TIF4Stats/Raster_RF_Clip/MA_RF_Class\\\\MA_RF_Class_MaizEdo_CanOE_ssp126_2041-2060.shp',\n",
       " 'TIF4Stats/Raster_RF_Clip/MA_RF_Class\\\\MA_RF_Class_MaizEdo_CanOE_ssp126_2061-2080.shp',\n",
       " 'TIF4Stats/Raster_RF_Clip/MA_RF_Class\\\\MA_RF_Class_MaizEdo_CanOE_ssp370_2021-2040.shp',\n",
       " 'TIF4Stats/Raster_RF_Clip/MA_RF_Class\\\\MA_RF_Class_MaizEdo_CanOE_ssp370_2041-2060.shp',\n",
       " 'TIF4Stats/Raster_RF_Clip/MA_RF_Class\\\\MA_RF_Class_MaizEdo_CanOE_ssp370_2061-2080.shp',\n",
       " 'TIF4Stats/Raster_RF_Clip/MA_RF_Class\\\\MA_RF_Class_MaizEdo_GDFL_ssp126_2021-2040.shp',\n",
       " 'TIF4Stats/Raster_RF_Clip/MA_RF_Class\\\\MA_RF_Class_MaizEdo_GDFL_ssp126_2041-2060.shp',\n",
       " 'TIF4Stats/Raster_RF_Clip/MA_RF_Class\\\\MA_RF_Class_MaizEdo_GDFL_ssp126_2061-2080.shp',\n",
       " 'TIF4Stats/Raster_RF_Clip/MA_RF_Class\\\\MA_RF_Class_MaizEdo_GDFL_ssp370_2021-2040.shp',\n",
       " 'TIF4Stats/Raster_RF_Clip/MA_RF_Class\\\\MA_RF_Class_MaizEdo_GDFL_ssp370_2041-2060.shp',\n",
       " 'TIF4Stats/Raster_RF_Clip/MA_RF_Class\\\\MA_RF_Class_MaizEdo_GDFL_ssp370_2061-370.shp']"
      ]
     },
     "execution_count": 14,
     "metadata": {},
     "output_type": "execute_result"
    }
   ],
   "source": [
    "archivos_shp"
   ]
  },
  {
   "cell_type": "code",
   "execution_count": 15,
   "id": "9f9eaf28-b3f3-4375-a3d1-5223d829be0f",
   "metadata": {},
   "outputs": [
    {
     "data": {
      "text/plain": [
       "['C:/Users/egonz/Documents/Servicio INIFAP/MainMunsProd/PyGeo_SS/TIF4Stats/Raster_RF_Clip/AptAlt_RF_Class_MaizEdo_CanOE_ssp126_2021-2040.tif',\n",
       " 'C:/Users/egonz/Documents/Servicio INIFAP/MainMunsProd/PyGeo_SS/TIF4Stats/Raster_RF_Clip/AptAlt_RF_Class_MaizEdo_CanOE_ssp126_2041-2060.tif',\n",
       " 'C:/Users/egonz/Documents/Servicio INIFAP/MainMunsProd/PyGeo_SS/TIF4Stats/Raster_RF_Clip/AptAlt_RF_Class_MaizEdo_CanOE_ssp126_2061-2080.tif',\n",
       " 'C:/Users/egonz/Documents/Servicio INIFAP/MainMunsProd/PyGeo_SS/TIF4Stats/Raster_RF_Clip/AptAlt_RF_Class_MaizEdo_CanOE_ssp370_2021-2040.tif',\n",
       " 'C:/Users/egonz/Documents/Servicio INIFAP/MainMunsProd/PyGeo_SS/TIF4Stats/Raster_RF_Clip/AptAlt_RF_Class_MaizEdo_CanOE_ssp370_2041-2060.tif',\n",
       " 'C:/Users/egonz/Documents/Servicio INIFAP/MainMunsProd/PyGeo_SS/TIF4Stats/Raster_RF_Clip/AptAlt_RF_Class_MaizEdo_CanOE_ssp370_2061-2080.tif',\n",
       " 'C:/Users/egonz/Documents/Servicio INIFAP/MainMunsProd/PyGeo_SS/TIF4Stats/Raster_RF_Clip/AptAlt_RF_Class_MaizEdo_GDFL_ssp126_2021-2040.tif',\n",
       " 'C:/Users/egonz/Documents/Servicio INIFAP/MainMunsProd/PyGeo_SS/TIF4Stats/Raster_RF_Clip/AptAlt_RF_Class_MaizEdo_GDFL_ssp126_2041-2060.tif',\n",
       " 'C:/Users/egonz/Documents/Servicio INIFAP/MainMunsProd/PyGeo_SS/TIF4Stats/Raster_RF_Clip/AptAlt_RF_Class_MaizEdo_GDFL_ssp126_2061-2080.tif',\n",
       " 'C:/Users/egonz/Documents/Servicio INIFAP/MainMunsProd/PyGeo_SS/TIF4Stats/Raster_RF_Clip/AptAlt_RF_Class_MaizEdo_GDFL_ssp370_2021-2040.tif',\n",
       " 'C:/Users/egonz/Documents/Servicio INIFAP/MainMunsProd/PyGeo_SS/TIF4Stats/Raster_RF_Clip/AptAlt_RF_Class_MaizEdo_GDFL_ssp370_2041-2060.tif',\n",
       " 'C:/Users/egonz/Documents/Servicio INIFAP/MainMunsProd/PyGeo_SS/TIF4Stats/Raster_RF_Clip/AptAlt_RF_Class_MaizEdo_GDFL_ssp370_2061-370.tif']"
      ]
     },
     "execution_count": 15,
     "metadata": {},
     "output_type": "execute_result"
    }
   ],
   "source": [
    "out=[]\n",
    "for i in archivos_raster:\n",
    "    out.append(f'C:/Users/egonz/Documents/Servicio INIFAP/MainMunsProd/PyGeo_SS/TIF4Stats/Raster_RF_Clip/AptAlt_{i[10:]}')\n",
    "out"
   ]
  },
  {
   "cell_type": "code",
   "execution_count": 16,
   "id": "14c92fbb-47b4-4df6-8b81-b88e1112818a",
   "metadata": {},
   "outputs": [],
   "source": [
    "mask = [\n",
    "    [-119.679565, 37.256566],\n",
    "    [-119.679565, 38.061067],\n",
    "    [-118.24585, 38.061067],\n",
    "    [-118.24585, 37.256566],\n",
    "    [-119.679565, 37.256566],\n",
    "]"
   ]
  },
  {
   "cell_type": "code",
   "execution_count": 17,
   "id": "ec888ca6-0176-4c9b-9221-9a73758877f7",
   "metadata": {},
   "outputs": [
    {
     "data": {
      "text/plain": [
       "[[-119.679565, 37.256566],\n",
       " [-119.679565, 38.061067],\n",
       " [-118.24585, 38.061067],\n",
       " [-118.24585, 37.256566],\n",
       " [-119.679565, 37.256566]]"
      ]
     },
     "execution_count": 17,
     "metadata": {},
     "output_type": "execute_result"
    }
   ],
   "source": [
    "mask"
   ]
  },
  {
   "cell_type": "code",
   "execution_count": 23,
   "id": "c14ebade-a98c-4970-a9b9-cc783c2993de",
   "metadata": {},
   "outputs": [],
   "source": [
    "dem= 'TIF4Stats/RF_Class_MaizEdo_CanOE_ssp126_2021-2040.tif'\n",
    "mask= 'TIF4Stats/Raster_RF_Clip/MA_RF_Class/MA_RF_Class_MaizEdo_CanOE_ssp126_2021-2040.shp'\n",
    "out= 'C:/Users/egonz/Documents/Servicio INIFAP/MainMunsProd/PyGeo_SS/TIF4Stats/Raster_RF_Clip/Prueba.tif'"
   ]
  },
  {
   "cell_type": "code",
   "execution_count": 50,
   "id": "b6306eb3-ab0a-4b43-8bff-38174c0dffac",
   "metadata": {},
   "outputs": [
    {
     "data": {
      "text/plain": [
       "74"
      ]
     },
     "execution_count": 50,
     "metadata": {},
     "output_type": "execute_result"
    }
   ],
   "source": [
    "len(ls[0])"
   ]
  },
  {
   "cell_type": "code",
   "execution_count": 64,
   "id": "08c83b4b-5991-4b61-b3a3-6d88e13508e6",
   "metadata": {},
   "outputs": [
    {
     "data": {
      "text/plain": [
       "['/Raster_RF_Clip/MA_RF_Class\\\\MA_RF_Class_MaizEdo_CanOE_ssp126_2021-2040.shp',\n",
       " '/Raster_RF_Clip/MA_RF_Class\\\\MA_RF_Class_MaizEdo_CanOE_ssp126_2041-2060.shp',\n",
       " '/Raster_RF_Clip/MA_RF_Class\\\\MA_RF_Class_MaizEdo_CanOE_ssp126_2061-2080.shp',\n",
       " '/Raster_RF_Clip/MA_RF_Class\\\\MA_RF_Class_MaizEdo_CanOE_ssp370_2021-2040.shp',\n",
       " '/Raster_RF_Clip/MA_RF_Class\\\\MA_RF_Class_MaizEdo_CanOE_ssp370_2041-2060.shp',\n",
       " '/Raster_RF_Clip/MA_RF_Class\\\\MA_RF_Class_MaizEdo_CanOE_ssp370_2061-2080.shp',\n",
       " '/Raster_RF_Clip/MA_RF_Class\\\\MA_RF_Class_MaizEdo_GDFL_ssp126_2021-2040.shp',\n",
       " '/Raster_RF_Clip/MA_RF_Class\\\\MA_RF_Class_MaizEdo_GDFL_ssp126_2041-2060.shp',\n",
       " '/Raster_RF_Clip/MA_RF_Class\\\\MA_RF_Class_MaizEdo_GDFL_ssp126_2061-2080.shp',\n",
       " '/Raster_RF_Clip/MA_RF_Class\\\\MA_RF_Class_MaizEdo_GDFL_ssp370_2021-2040.shp',\n",
       " '/Raster_RF_Clip/MA_RF_Class\\\\MA_RF_Class_MaizEdo_GDFL_ssp370_2041-2060.shp',\n",
       " '/Raster_RF_Clip/MA_RF_Class\\\\MA_RF_Class_MaizEdo_GDFL_ssp370_2061-370.shp']"
      ]
     },
     "execution_count": 64,
     "metadata": {},
     "output_type": "execute_result"
    }
   ],
   "source": [
    "ls"
   ]
  },
  {
   "cell_type": "code",
   "execution_count": 69,
   "id": "c3ebd708-ec56-4e5f-bb94-fbb4f0793776",
   "metadata": {},
   "outputs": [
    {
     "data": {
      "text/plain": [
       "['MA_RF_Class_MaizEdo_CanOE_ssp126_2021-2040.shp',\n",
       " 'MA_RF_Class_MaizEdo_CanOE_ssp126_2041-2060.shp',\n",
       " 'MA_RF_Class_MaizEdo_CanOE_ssp126_2061-2080.shp',\n",
       " 'MA_RF_Class_MaizEdo_CanOE_ssp370_2021-2040.shp',\n",
       " 'MA_RF_Class_MaizEdo_CanOE_ssp370_2041-2060.shp',\n",
       " 'MA_RF_Class_MaizEdo_CanOE_ssp370_2061-2080.shp',\n",
       " 'MA_RF_Class_MaizEdo_GDFL_ssp126_2021-2040.shp',\n",
       " 'MA_RF_Class_MaizEdo_GDFL_ssp126_2041-2060.shp',\n",
       " 'MA_RF_Class_MaizEdo_GDFL_ssp126_2061-2080.shp',\n",
       " 'MA_RF_Class_MaizEdo_GDFL_ssp370_2021-2040.shp',\n",
       " 'MA_RF_Class_MaizEdo_GDFL_ssp370_2041-2060.shp',\n",
       " 'MA_RF_Class_MaizEdo_GDFL_ssp370_2061-370.shp']"
      ]
     },
     "execution_count": 69,
     "metadata": {},
     "output_type": "execute_result"
    }
   ],
   "source": [
    "ls1= []\n",
    "for i in ls:\n",
    "    ls1.append(i[28:])\n",
    "ls1"
   ]
  },
  {
   "cell_type": "code",
   "execution_count": 70,
   "id": "110ed007-df73-4d97-997f-940773a7ad54",
   "metadata": {},
   "outputs": [
    {
     "name": "stdout",
     "output_type": "stream",
     "text": [
      "['MA_RF_Class_MaizEdo_CanOE_ssp126_2021-2040', 'MA_RF_Class_MaizEdo_CanOE_ssp126_2041-2060', 'MA_RF_Class_MaizEdo_CanOE_ssp126_2061-2080', 'MA_RF_Class_MaizEdo_CanOE_ssp370_2021-2040', 'MA_RF_Class_MaizEdo_CanOE_ssp370_2041-2060', 'MA_RF_Class_MaizEdo_CanOE_ssp370_2061-2080', 'MA_RF_Class_MaizEdo_GDFL_ssp126_2021-2040', 'MA_RF_Class_MaizEdo_GDFL_ssp126_2041-2060', 'MA_RF_Class_MaizEdo_GDFL_ssp126_2061-2080', 'MA_RF_Class_MaizEdo_GDFL_ssp370_2021-2040', 'MA_RF_Class_MaizEdo_GDFL_ssp370_2041-2060', 'MA_RF_Class_MaizEdo_GDFL_ssp370_2061-370']\n"
     ]
    }
   ],
   "source": [
    "# Eliminar la palabra \".shp\" de cada cadena en ls1\n",
    "ls2 = [name.replace('.shp', '') for name in ls1]\n",
    "\n",
    "print(ls2)\n",
    "# Output: ['archivo1', 'archivo2', 'archivo3']"
   ]
  },
  {
   "cell_type": "markdown",
   "id": "62481029-acef-4256-be16-aa50ba11a725",
   "metadata": {
    "tags": []
   },
   "source": [
    "# Ciclar el clip de los archivos tif "
   ]
  },
  {
   "cell_type": "code",
   "execution_count": 72,
   "id": "ba6b2de1-0e9b-43cd-baca-f84b32afa702",
   "metadata": {},
   "outputs": [],
   "source": [
    "# Supongamos que 'geodataframes' es tu lista de GeoDataFrames\n",
    "# y 'ls' es la lista de nombres correspondientes a cada GeoDataFrame\n",
    "# y 'folder_path' es la carpeta de destino donde quieres guardar los archivos\n",
    "\n",
    "folder_path = r'C:\\Users\\egonz\\Documents\\Servicio INIFAP\\MainMunsProd\\PyGeo_SS\\TIF4Stats\\Raster_RF_Clip\\MA_RF_Class'\n",
    "\n",
    "for gdf, name in zip(geodataframes, ls2):\n",
    "    file_name = f'{folder_path}/{name}.shp'  # Cambia la extensión según el formato deseado\n",
    "    gdf.to_file(file_name)"
   ]
  },
  {
   "cell_type": "code",
   "execution_count": 73,
   "id": "40accfa0-c221-478c-8f33-cf1deb5aa1ca",
   "metadata": {},
   "outputs": [],
   "source": [
    "dem= 'TIF4Stats/RF_Class_MaizEdo_CanOE_ssp126_2021-2040.tif'\n",
    "mask= 'TIF4Stats/Raster_RF_Clip/MA_RF_Class/MA_RF_Class_MaizEdo_CanOE_ssp126_2021-2040.shp'\n",
    "out= 'C:/Users/egonz/Documents/Servicio INIFAP/MainMunsProd/PyGeo_SS/TIF4Stats/Raster_RF_Clip/PruebaAlv.tif'"
   ]
  },
  {
   "cell_type": "code",
   "execution_count": 74,
   "id": "5aacf4ee-dc3c-4175-babd-e00ec5fcae4f",
   "metadata": {},
   "outputs": [],
   "source": [
    "geemap.clip_image(dem,mask,out)"
   ]
  },
  {
   "cell_type": "code",
   "execution_count": 76,
   "id": "61bfc029-5b17-44ae-bf95-0df4d2d1bb6f",
   "metadata": {},
   "outputs": [
    {
     "data": {
      "text/plain": [
       "['TIF4Stats/Raster_RF_Clip/MA_RF_Class\\\\MA_RF_Class_MaizEdo_CanOE_ssp126_2021-2040.shp',\n",
       " 'TIF4Stats/Raster_RF_Clip/MA_RF_Class\\\\MA_RF_Class_MaizEdo_CanOE_ssp126_2041-2060.shp',\n",
       " 'TIF4Stats/Raster_RF_Clip/MA_RF_Class\\\\MA_RF_Class_MaizEdo_CanOE_ssp126_2061-2080.shp',\n",
       " 'TIF4Stats/Raster_RF_Clip/MA_RF_Class\\\\MA_RF_Class_MaizEdo_CanOE_ssp370_2021-2040.shp',\n",
       " 'TIF4Stats/Raster_RF_Clip/MA_RF_Class\\\\MA_RF_Class_MaizEdo_CanOE_ssp370_2041-2060.shp',\n",
       " 'TIF4Stats/Raster_RF_Clip/MA_RF_Class\\\\MA_RF_Class_MaizEdo_CanOE_ssp370_2061-2080.shp',\n",
       " 'TIF4Stats/Raster_RF_Clip/MA_RF_Class\\\\MA_RF_Class_MaizEdo_GDFL_ssp126_2021-2040.shp',\n",
       " 'TIF4Stats/Raster_RF_Clip/MA_RF_Class\\\\MA_RF_Class_MaizEdo_GDFL_ssp126_2041-2060.shp',\n",
       " 'TIF4Stats/Raster_RF_Clip/MA_RF_Class\\\\MA_RF_Class_MaizEdo_GDFL_ssp126_2061-2080.shp',\n",
       " 'TIF4Stats/Raster_RF_Clip/MA_RF_Class\\\\MA_RF_Class_MaizEdo_GDFL_ssp370_2021-2040.shp',\n",
       " 'TIF4Stats/Raster_RF_Clip/MA_RF_Class\\\\MA_RF_Class_MaizEdo_GDFL_ssp370_2041-2060.shp',\n",
       " 'TIF4Stats/Raster_RF_Clip/MA_RF_Class\\\\MA_RF_Class_MaizEdo_GDFL_ssp370_2061-370.shp']"
      ]
     },
     "execution_count": 76,
     "metadata": {},
     "output_type": "execute_result"
    }
   ],
   "source": [
    "folder_path = 'TIF4Stats/Raster_RF_Clip/MA_RF_Class'  # Reemplaza con la ruta de tu carpeta\n",
    "\n",
    "shp_files = glob.glob(f'{folder_path}/*.shp')\n",
    "\n",
    "shp_files"
   ]
  },
  {
   "cell_type": "code",
   "execution_count": 77,
   "id": "757e8024-481f-458e-b165-8bb2281275c9",
   "metadata": {},
   "outputs": [
    {
     "data": {
      "text/plain": [
       "['TIF4Stats\\\\RF_Class_MaizEdo_CanOE_ssp126_2021-2040.tif',\n",
       " 'TIF4Stats\\\\RF_Class_MaizEdo_CanOE_ssp126_2041-2060.tif',\n",
       " 'TIF4Stats\\\\RF_Class_MaizEdo_CanOE_ssp126_2061-2080.tif',\n",
       " 'TIF4Stats\\\\RF_Class_MaizEdo_CanOE_ssp370_2021-2040.tif',\n",
       " 'TIF4Stats\\\\RF_Class_MaizEdo_CanOE_ssp370_2041-2060.tif',\n",
       " 'TIF4Stats\\\\RF_Class_MaizEdo_CanOE_ssp370_2061-2080.tif',\n",
       " 'TIF4Stats\\\\RF_Class_MaizEdo_GDFL_ssp126_2021-2040.tif',\n",
       " 'TIF4Stats\\\\RF_Class_MaizEdo_GDFL_ssp126_2041-2060.tif',\n",
       " 'TIF4Stats\\\\RF_Class_MaizEdo_GDFL_ssp126_2061-2080.tif',\n",
       " 'TIF4Stats\\\\RF_Class_MaizEdo_GDFL_ssp370_2021-2040.tif',\n",
       " 'TIF4Stats\\\\RF_Class_MaizEdo_GDFL_ssp370_2041-2060.tif',\n",
       " 'TIF4Stats\\\\RF_Class_MaizEdo_GDFL_ssp370_2061-370.tif']"
      ]
     },
     "execution_count": 77,
     "metadata": {},
     "output_type": "execute_result"
    }
   ],
   "source": [
    "folder_path = 'TIF4Stats'  # Reemplaza con la ruta de tu carpeta\n",
    "\n",
    "tif_files = glob.glob(f'{folder_path}/*.tif')\n",
    "\n",
    "tif_files"
   ]
  },
  {
   "cell_type": "code",
   "execution_count": 79,
   "id": "ae4dd4be-15b5-483d-bedf-9ce2d84cde25",
   "metadata": {},
   "outputs": [
    {
     "data": {
      "text/plain": [
       "53"
      ]
     },
     "execution_count": 79,
     "metadata": {},
     "output_type": "execute_result"
    }
   ],
   "source": [
    "len(tif_files[0])"
   ]
  },
  {
   "cell_type": "code",
   "execution_count": 92,
   "id": "79fcca8d-2db4-457f-8cbd-037451e2dc6c",
   "metadata": {},
   "outputs": [
    {
     "data": {
      "text/plain": [
       "['Apt_M_A_RF_Class_MaizEdo_CanOE_ssp126_2021-2040.tif',\n",
       " 'Apt_M_A_RF_Class_MaizEdo_CanOE_ssp126_2041-2060.tif',\n",
       " 'Apt_M_A_RF_Class_MaizEdo_CanOE_ssp126_2061-2080.tif',\n",
       " 'Apt_M_A_RF_Class_MaizEdo_CanOE_ssp370_2021-2040.tif',\n",
       " 'Apt_M_A_RF_Class_MaizEdo_CanOE_ssp370_2041-2060.tif',\n",
       " 'Apt_M_A_RF_Class_MaizEdo_CanOE_ssp370_2061-2080.tif',\n",
       " 'Apt_M_A_RF_Class_MaizEdo_GDFL_ssp126_2021-2040.tif',\n",
       " 'Apt_M_A_RF_Class_MaizEdo_GDFL_ssp126_2041-2060.tif',\n",
       " 'Apt_M_A_RF_Class_MaizEdo_GDFL_ssp126_2061-2080.tif',\n",
       " 'Apt_M_A_RF_Class_MaizEdo_GDFL_ssp370_2021-2040.tif',\n",
       " 'Apt_M_A_RF_Class_MaizEdo_GDFL_ssp370_2041-2060.tif',\n",
       " 'Apt_M_A_RF_Class_MaizEdo_GDFL_ssp370_2061-370.tif']"
      ]
     },
     "execution_count": 92,
     "metadata": {},
     "output_type": "execute_result"
    }
   ],
   "source": [
    "outls= []\n",
    "for i in tif_files:\n",
    "    outls.append(f'Apt_M_A_{i[10:]}')\n",
    "outls"
   ]
  },
  {
   "cell_type": "code",
   "execution_count": 93,
   "id": "ed55302b-1bea-4bcc-9999-2edf117a3337",
   "metadata": {},
   "outputs": [],
   "source": [
    "# Supongamos que 'tif_files' es tu lista de rutas a imágenes .tif\n",
    "# 'shp_files' es tu lista de rutas a archivos .shp\n",
    "# 'outls' es tu lista de nombres de salida para cada archivo\n",
    "# y 'folder_path' es la carpeta de destino donde quieres guardar los archivos\n",
    "\n",
    "folder_path = r'C:\\Users\\egonz\\Documents\\Servicio INIFAP\\MainMunsProd\\PyGeo_SS\\TIF4Stats\\Raster_RF_Clip'\n",
    "\n",
    "for tif_file, shp_file, out_name in zip(tif_files, shp_files, outls):\n",
    "    out_file = f'{folder_path}/{out_name}'  # Cambia la extensión según el formato deseado\n",
    "    geemap.clip_image(tif_file, shp_file, out_file)"
   ]
  },
  {
   "cell_type": "markdown",
   "id": "2b3e4db7-026b-4915-9278-9e780850ff50",
   "metadata": {
    "jp-MarkdownHeadingCollapsed": true,
    "tags": []
   },
   "source": [
    "# Filrto de los rasters de apt. Media Alta a Muy Alta"
   ]
  },
  {
   "cell_type": "code",
   "execution_count": 4,
   "id": "2008f4c8-275d-4f3b-a205-65ba86f1655a",
   "metadata": {},
   "outputs": [],
   "source": [
    "import os\n",
    "import rasterio\n",
    "import numpy as np\n",
    "\n",
    "# Define la carpeta que contiene los archivos .tif\n",
    "input_folder = 'TIF4Stats'\n",
    "\n",
    "# Define la carpeta de salida\n",
    "output_folder = r'C:\\Users\\egonz\\Documents\\Servicio INIFAP\\MainMunsProd\\PyGeo_SS\\TIF4Stats\\Raster_RF_Clip'\n",
    "\n",
    "# Lista todos los archivos .tif en la carpeta\n",
    "tif_files = [f for f in os.listdir(input_folder) if f.endswith('.tif')]\n",
    "\n",
    "# Procesa cada archivo .tif\n",
    "for tif_file in tif_files:\n",
    "    # Abre el archivo .tif\n",
    "    with rasterio.open(os.path.join(input_folder, tif_file)) as src:\n",
    "        # Lee el archivo en un array de numpy\n",
    "        raster_array = src.read(1)\n",
    "        # Copia los metadatos del archivo original\n",
    "        meta = src.meta\n",
    "\n",
    "    # Crea una máscara para los valores que quieres eliminar\n",
    "    mask = (raster_array >= 1) & (raster_array <= 5)\n",
    "\n",
    "    # Aplica la máscara al array\n",
    "    raster_array[mask] = 0\n",
    "\n",
    "    # Define la ruta de salida y el nombre del archivo\n",
    "    output_file = os.path.join(output_folder, 'Apt_M2A_' + tif_file)\n",
    "\n",
    "    # Actualiza las propiedades para el nuevo archivo\n",
    "    meta.update(dtype=rasterio.float32)\n",
    "\n",
    "    # Escribe el array modificado en el nuevo archivo .tif\n",
    "    with rasterio.open(output_file, 'w', **meta) as dst:\n",
    "        dst.write(raster_array.astype(rasterio.float32), 1)"
   ]
  },
  {
   "cell_type": "code",
   "execution_count": 41,
   "id": "904fc23c-5b15-4b00-8cef-42b5fde7ce60",
   "metadata": {},
   "outputs": [
    {
     "data": {
      "text/plain": [
       "['E:/EdomexDiv\\\\Acambay de RuÃ\\xadz CastaÃ±eda.shp',\n",
       " 'E:/EdomexDiv\\\\Acolman.shp',\n",
       " 'E:/EdomexDiv\\\\Aculco.shp',\n",
       " 'E:/EdomexDiv\\\\Almoloya de Alquisiras.shp',\n",
       " 'E:/EdomexDiv\\\\Almoloya de JuÃ¡rez.shp',\n",
       " 'E:/EdomexDiv\\\\Almoloya del RÃ\\xado.shp',\n",
       " 'E:/EdomexDiv\\\\Amanalco.shp',\n",
       " 'E:/EdomexDiv\\\\Amatepec.shp',\n",
       " 'E:/EdomexDiv\\\\Amecameca.shp',\n",
       " 'E:/EdomexDiv\\\\Apaxco.shp',\n",
       " 'E:/EdomexDiv\\\\Atenco.shp',\n",
       " 'E:/EdomexDiv\\\\AtizapÃ¡n de Zaragoza.shp',\n",
       " 'E:/EdomexDiv\\\\AtizapÃ¡n.shp',\n",
       " 'E:/EdomexDiv\\\\Atlacomulco.shp',\n",
       " 'E:/EdomexDiv\\\\Atlautla.shp',\n",
       " 'E:/EdomexDiv\\\\Axapusco.shp',\n",
       " 'E:/EdomexDiv\\\\Ayapango.shp',\n",
       " 'E:/EdomexDiv\\\\Calimaya.shp',\n",
       " 'E:/EdomexDiv\\\\Capulhuac.shp',\n",
       " 'E:/EdomexDiv\\\\Chalco.shp',\n",
       " 'E:/EdomexDiv\\\\Chapa de Mota.shp',\n",
       " 'E:/EdomexDiv\\\\Chapultepec.shp',\n",
       " 'E:/EdomexDiv\\\\Chiautla.shp',\n",
       " 'E:/EdomexDiv\\\\Chicoloapan.shp',\n",
       " 'E:/EdomexDiv\\\\Chiconcuac.shp',\n",
       " 'E:/EdomexDiv\\\\ChimalhuacÃ¡n.shp',\n",
       " 'E:/EdomexDiv\\\\Coacalco de BerriozÃ¡bal.shp',\n",
       " 'E:/EdomexDiv\\\\Coatepec Harinas.shp',\n",
       " 'E:/EdomexDiv\\\\CocotitlÃ¡n.shp',\n",
       " 'E:/EdomexDiv\\\\Coyotepec.shp',\n",
       " 'E:/EdomexDiv\\\\CuautitlÃ¡n Izcalli.shp',\n",
       " 'E:/EdomexDiv\\\\CuautitlÃ¡n.shp',\n",
       " 'E:/EdomexDiv\\\\Donato Guerra.shp',\n",
       " 'E:/EdomexDiv\\\\Ecatepec de Morelos.shp',\n",
       " 'E:/EdomexDiv\\\\Ecatzingo.shp',\n",
       " 'E:/EdomexDiv\\\\El Oro.shp',\n",
       " 'E:/EdomexDiv\\\\Huehuetoca.shp',\n",
       " 'E:/EdomexDiv\\\\Hueypoxtla.shp',\n",
       " 'E:/EdomexDiv\\\\Huixquilucan.shp',\n",
       " 'E:/EdomexDiv\\\\Isidro Fabela.shp',\n",
       " 'E:/EdomexDiv\\\\Ixtapaluca.shp',\n",
       " 'E:/EdomexDiv\\\\Ixtapan de la Sal.shp',\n",
       " 'E:/EdomexDiv\\\\Ixtapan del Oro.shp',\n",
       " 'E:/EdomexDiv\\\\Ixtlahuaca.shp',\n",
       " 'E:/EdomexDiv\\\\Jaltenco.shp',\n",
       " 'E:/EdomexDiv\\\\Jilotepec.shp',\n",
       " 'E:/EdomexDiv\\\\Jilotzingo.shp',\n",
       " 'E:/EdomexDiv\\\\Jiquipilco.shp',\n",
       " 'E:/EdomexDiv\\\\JocotitlÃ¡n.shp',\n",
       " 'E:/EdomexDiv\\\\Joquicingo.shp',\n",
       " 'E:/EdomexDiv\\\\Juchitepec.shp',\n",
       " 'E:/EdomexDiv\\\\La Paz.shp',\n",
       " 'E:/EdomexDiv\\\\Lerma.shp',\n",
       " 'E:/EdomexDiv\\\\Luvianos.shp',\n",
       " 'E:/EdomexDiv\\\\Malinalco.shp',\n",
       " 'E:/EdomexDiv\\\\Melchor Ocampo.shp',\n",
       " 'E:/EdomexDiv\\\\Metepec.shp',\n",
       " 'E:/EdomexDiv\\\\Mexicaltzingo.shp',\n",
       " 'E:/EdomexDiv\\\\Morelos.shp',\n",
       " 'E:/EdomexDiv\\\\Naucalpan de JuÃ¡rez.shp',\n",
       " 'E:/EdomexDiv\\\\Nextlalpan.shp',\n",
       " 'E:/EdomexDiv\\\\NezahualcÃ³yotl.shp',\n",
       " 'E:/EdomexDiv\\\\NicolÃ¡s Romero.shp',\n",
       " 'E:/EdomexDiv\\\\Nopaltepec.shp',\n",
       " 'E:/EdomexDiv\\\\Ocoyoacac.shp',\n",
       " 'E:/EdomexDiv\\\\Ocuilan.shp',\n",
       " 'E:/EdomexDiv\\\\Otumba.shp',\n",
       " 'E:/EdomexDiv\\\\Otzoloapan.shp',\n",
       " 'E:/EdomexDiv\\\\Otzolotepec.shp',\n",
       " 'E:/EdomexDiv\\\\Ozumba.shp',\n",
       " 'E:/EdomexDiv\\\\Papalotla.shp',\n",
       " 'E:/EdomexDiv\\\\PolotitlÃ¡n.shp',\n",
       " 'E:/EdomexDiv\\\\RayÃ³n.shp',\n",
       " 'E:/EdomexDiv\\\\San Antonio la Isla.shp',\n",
       " 'E:/EdomexDiv\\\\San Felipe del Progreso.shp',\n",
       " 'E:/EdomexDiv\\\\San JosÃ© del RincÃ³n.shp',\n",
       " 'E:/EdomexDiv\\\\San MartÃ\\xadn de las PirÃ¡mides.shp',\n",
       " 'E:/EdomexDiv\\\\San Mateo Atenco.shp',\n",
       " 'E:/EdomexDiv\\\\San SimÃ³n de Guerrero.shp',\n",
       " 'E:/EdomexDiv\\\\Santo TomÃ¡s.shp',\n",
       " 'E:/EdomexDiv\\\\Soyaniquilpan de JuÃ¡rez.shp',\n",
       " 'E:/EdomexDiv\\\\Sultepec.shp',\n",
       " 'E:/EdomexDiv\\\\TecÃ¡mac.shp',\n",
       " 'E:/EdomexDiv\\\\Tejupilco.shp',\n",
       " 'E:/EdomexDiv\\\\Temamatla.shp',\n",
       " 'E:/EdomexDiv\\\\Temascalapa.shp',\n",
       " 'E:/EdomexDiv\\\\Temascalcingo.shp',\n",
       " 'E:/EdomexDiv\\\\Temascaltepec.shp',\n",
       " 'E:/EdomexDiv\\\\Temoaya.shp',\n",
       " 'E:/EdomexDiv\\\\Tenancingo.shp',\n",
       " 'E:/EdomexDiv\\\\Tenango del Aire.shp',\n",
       " 'E:/EdomexDiv\\\\Tenango del Valle.shp',\n",
       " 'E:/EdomexDiv\\\\Teoloyucan.shp',\n",
       " 'E:/EdomexDiv\\\\TeotihuacÃ¡n.shp',\n",
       " 'E:/EdomexDiv\\\\Tepetlaoxtoc.shp',\n",
       " 'E:/EdomexDiv\\\\Tepetlixpa.shp',\n",
       " 'E:/EdomexDiv\\\\TepotzotlÃ¡n.shp',\n",
       " 'E:/EdomexDiv\\\\Tequixquiac.shp',\n",
       " 'E:/EdomexDiv\\\\TexcaltitlÃ¡n.shp',\n",
       " 'E:/EdomexDiv\\\\Texcalyacac.shp',\n",
       " 'E:/EdomexDiv\\\\Texcoco.shp',\n",
       " 'E:/EdomexDiv\\\\Tezoyuca.shp',\n",
       " 'E:/EdomexDiv\\\\Tianguistenco.shp',\n",
       " 'E:/EdomexDiv\\\\Timilpan.shp',\n",
       " 'E:/EdomexDiv\\\\Tlalmanalco.shp',\n",
       " 'E:/EdomexDiv\\\\Tlalnepantla de Baz.shp',\n",
       " 'E:/EdomexDiv\\\\Tlatlaya.shp',\n",
       " 'E:/EdomexDiv\\\\Toluca.shp',\n",
       " 'E:/EdomexDiv\\\\Tonanitla.shp',\n",
       " 'E:/EdomexDiv\\\\Tonatico.shp',\n",
       " 'E:/EdomexDiv\\\\Tultepec.shp',\n",
       " 'E:/EdomexDiv\\\\TultitlÃ¡n.shp',\n",
       " 'E:/EdomexDiv\\\\Valle de Bravo.shp',\n",
       " 'E:/EdomexDiv\\\\Valle de Chalco Solidaridad.shp',\n",
       " 'E:/EdomexDiv\\\\Villa de Allende.shp',\n",
       " 'E:/EdomexDiv\\\\Villa del CarbÃ³n.shp',\n",
       " 'E:/EdomexDiv\\\\Villa Guerrero.shp',\n",
       " 'E:/EdomexDiv\\\\Villa Victoria.shp',\n",
       " 'E:/EdomexDiv\\\\Xalatlaco.shp',\n",
       " 'E:/EdomexDiv\\\\XonacatlÃ¡n.shp',\n",
       " 'E:/EdomexDiv\\\\Zacazonapan.shp',\n",
       " 'E:/EdomexDiv\\\\Zacualpan.shp',\n",
       " 'E:/EdomexDiv\\\\Zinacantepec.shp',\n",
       " 'E:/EdomexDiv\\\\ZumpahuacÃ¡n.shp',\n",
       " 'E:/EdomexDiv\\\\Zumpango.shp']"
      ]
     },
     "execution_count": 41,
     "metadata": {},
     "output_type": "execute_result"
    }
   ],
   "source": [
    "directorio= 'E:/EdomexDiv'\n",
    "# Busca todos los archivos .shp en el directorio y subdirectorios\n",
    "archivos_shape = glob.glob(directorio + '/**/*.shp', recursive=True)\n",
    "archivos_shape"
   ]
  },
  {
   "cell_type": "markdown",
   "id": "e40cedac-48f1-4b2c-8916-98a42c8914b9",
   "metadata": {},
   "source": [
    "# Recortar un raster por municipio"
   ]
  },
  {
   "cell_type": "markdown",
   "id": "0da3e8c0-2046-443a-ab70-c2d35d6dc563",
   "metadata": {
    "tags": []
   },
   "source": [
    "## Ruta a archivos shape"
   ]
  },
  {
   "cell_type": "code",
   "execution_count": 43,
   "id": "1ef64805-e814-413a-b992-0c5bebb91dc0",
   "metadata": {},
   "outputs": [],
   "source": [
    "archivos_shape;"
   ]
  },
  {
   "cell_type": "markdown",
   "id": "1c8174c3-1ad1-40a3-8a2a-d3078e03af7d",
   "metadata": {},
   "source": [
    "## Ruta a los archivos raster"
   ]
  },
  {
   "cell_type": "code",
   "execution_count": 31,
   "id": "8580855f-970f-4dd6-a618-49e09dc6fd15",
   "metadata": {},
   "outputs": [],
   "source": [
    "# Busca todos los archivos .tif en el directorio y subdirectorios\n",
    "rut= r'TIF4Stats/Raster_RF_Clip'\n",
    "archivos_tif = glob.glob(rut + '/**/*.tif', recursive=True)"
   ]
  },
  {
   "cell_type": "code",
   "execution_count": 120,
   "id": "eb532eb4-27ed-430c-bbc7-7a5897e1f913",
   "metadata": {},
   "outputs": [
    {
     "data": {
      "text/plain": [
       "['Acambay de RuÃ\\xadz CastaÃ±eda.shp',\n",
       " 'Acolman.shp',\n",
       " 'Aculco.shp',\n",
       " 'Almoloya de Alquisiras.shp',\n",
       " 'Almoloya de JuÃ¡rez.shp',\n",
       " 'Almoloya del RÃ\\xado.shp',\n",
       " 'Amanalco.shp',\n",
       " 'Amatepec.shp',\n",
       " 'Amecameca.shp',\n",
       " 'Apaxco.shp',\n",
       " 'Atenco.shp',\n",
       " 'AtizapÃ¡n de Zaragoza.shp',\n",
       " 'AtizapÃ¡n.shp',\n",
       " 'Atlacomulco.shp',\n",
       " 'Atlautla.shp',\n",
       " 'Axapusco.shp',\n",
       " 'Ayapango.shp',\n",
       " 'Calimaya.shp',\n",
       " 'Capulhuac.shp',\n",
       " 'Chalco.shp',\n",
       " 'Chapa de Mota.shp',\n",
       " 'Chapultepec.shp',\n",
       " 'Chiautla.shp',\n",
       " 'Chicoloapan.shp',\n",
       " 'Chiconcuac.shp',\n",
       " 'ChimalhuacÃ¡n.shp',\n",
       " 'Coacalco de BerriozÃ¡bal.shp',\n",
       " 'Coatepec Harinas.shp',\n",
       " 'CocotitlÃ¡n.shp',\n",
       " 'Coyotepec.shp',\n",
       " 'CuautitlÃ¡n Izcalli.shp',\n",
       " 'CuautitlÃ¡n.shp',\n",
       " 'Donato Guerra.shp',\n",
       " 'Ecatepec de Morelos.shp',\n",
       " 'Ecatzingo.shp',\n",
       " 'El Oro.shp',\n",
       " 'Huehuetoca.shp',\n",
       " 'Hueypoxtla.shp',\n",
       " 'Huixquilucan.shp',\n",
       " 'Isidro Fabela.shp',\n",
       " 'Ixtapaluca.shp',\n",
       " 'Ixtapan de la Sal.shp',\n",
       " 'Ixtapan del Oro.shp',\n",
       " 'Ixtlahuaca.shp',\n",
       " 'Jaltenco.shp',\n",
       " 'Jilotepec.shp',\n",
       " 'Jilotzingo.shp',\n",
       " 'Jiquipilco.shp',\n",
       " 'JocotitlÃ¡n.shp',\n",
       " 'Joquicingo.shp',\n",
       " 'Juchitepec.shp',\n",
       " 'La Paz.shp',\n",
       " 'Lerma.shp',\n",
       " 'Luvianos.shp',\n",
       " 'Malinalco.shp',\n",
       " 'Melchor Ocampo.shp',\n",
       " 'Metepec.shp',\n",
       " 'Mexicaltzingo.shp',\n",
       " 'Morelos.shp',\n",
       " 'Naucalpan de JuÃ¡rez.shp',\n",
       " 'Nextlalpan.shp',\n",
       " 'NezahualcÃ³yotl.shp',\n",
       " 'NicolÃ¡s Romero.shp',\n",
       " 'Nopaltepec.shp',\n",
       " 'Ocoyoacac.shp',\n",
       " 'Ocuilan.shp',\n",
       " 'Otumba.shp',\n",
       " 'Otzoloapan.shp',\n",
       " 'Otzolotepec.shp',\n",
       " 'Ozumba.shp',\n",
       " 'Papalotla.shp',\n",
       " 'PolotitlÃ¡n.shp',\n",
       " 'RayÃ³n.shp',\n",
       " 'San Antonio la Isla.shp',\n",
       " 'San Felipe del Progreso.shp',\n",
       " 'San JosÃ© del RincÃ³n.shp',\n",
       " 'San MartÃ\\xadn de las PirÃ¡mides.shp',\n",
       " 'San Mateo Atenco.shp',\n",
       " 'San SimÃ³n de Guerrero.shp',\n",
       " 'Santo TomÃ¡s.shp',\n",
       " 'Soyaniquilpan de JuÃ¡rez.shp',\n",
       " 'Sultepec.shp',\n",
       " 'TecÃ¡mac.shp',\n",
       " 'Tejupilco.shp',\n",
       " 'Temamatla.shp',\n",
       " 'Temascalapa.shp',\n",
       " 'Temascalcingo.shp',\n",
       " 'Temascaltepec.shp',\n",
       " 'Temoaya.shp',\n",
       " 'Tenancingo.shp',\n",
       " 'Tenango del Aire.shp',\n",
       " 'Tenango del Valle.shp',\n",
       " 'Teoloyucan.shp',\n",
       " 'TeotihuacÃ¡n.shp',\n",
       " 'Tepetlaoxtoc.shp',\n",
       " 'Tepetlixpa.shp',\n",
       " 'TepotzotlÃ¡n.shp',\n",
       " 'Tequixquiac.shp',\n",
       " 'TexcaltitlÃ¡n.shp',\n",
       " 'Texcalyacac.shp',\n",
       " 'Texcoco.shp',\n",
       " 'Tezoyuca.shp',\n",
       " 'Tianguistenco.shp',\n",
       " 'Timilpan.shp',\n",
       " 'Tlalmanalco.shp',\n",
       " 'Tlalnepantla de Baz.shp',\n",
       " 'Tlatlaya.shp',\n",
       " 'Toluca.shp',\n",
       " 'Tonanitla.shp',\n",
       " 'Tonatico.shp',\n",
       " 'Tultepec.shp',\n",
       " 'TultitlÃ¡n.shp',\n",
       " 'Valle de Bravo.shp',\n",
       " 'Valle de Chalco Solidaridad.shp',\n",
       " 'Villa de Allende.shp',\n",
       " 'Villa del CarbÃ³n.shp',\n",
       " 'Villa Guerrero.shp',\n",
       " 'Villa Victoria.shp',\n",
       " 'Xalatlaco.shp',\n",
       " 'XonacatlÃ¡n.shp',\n",
       " 'Zacazonapan.shp',\n",
       " 'Zacualpan.shp',\n",
       " 'Zinacantepec.shp',\n",
       " 'ZumpahuacÃ¡n.shp',\n",
       " 'Zumpango.shp']"
      ]
     },
     "execution_count": 120,
     "metadata": {},
     "output_type": "execute_result"
    }
   ],
   "source": [
    "mun=[]\n",
    "for i in archivos_shape:\n",
    "    mun.append(i[13:])\n",
    "mun"
   ]
  },
  {
   "cell_type": "code",
   "execution_count": 121,
   "id": "8eb77a6b-dbfd-4bee-a469-7eb5cfa79ad2",
   "metadata": {},
   "outputs": [
    {
     "data": {
      "text/plain": [
       "['Acambay de RuÃ\\xadz CastaÃ±eda',\n",
       " 'Acolman',\n",
       " 'Aculco',\n",
       " 'Almoloya de Alquisiras',\n",
       " 'Almoloya de JuÃ¡rez',\n",
       " 'Almoloya del RÃ\\xado',\n",
       " 'Amanalco',\n",
       " 'Amatepec',\n",
       " 'Amecameca',\n",
       " 'Apaxco',\n",
       " 'Atenco',\n",
       " 'AtizapÃ¡n de Zaragoza',\n",
       " 'AtizapÃ¡n',\n",
       " 'Atlacomulco',\n",
       " 'Atlautla',\n",
       " 'Axapusco',\n",
       " 'Ayapango',\n",
       " 'Calimaya',\n",
       " 'Capulhuac',\n",
       " 'Chalco',\n",
       " 'Chapa de Mota',\n",
       " 'Chapultepec',\n",
       " 'Chiautla',\n",
       " 'Chicoloapan',\n",
       " 'Chiconcuac',\n",
       " 'ChimalhuacÃ¡n',\n",
       " 'Coacalco de BerriozÃ¡bal',\n",
       " 'Coatepec Harinas',\n",
       " 'CocotitlÃ¡n',\n",
       " 'Coyotepec',\n",
       " 'CuautitlÃ¡n Izcalli',\n",
       " 'CuautitlÃ¡n',\n",
       " 'Donato Guerra',\n",
       " 'Ecatepec de Morelos',\n",
       " 'Ecatzingo',\n",
       " 'El Oro',\n",
       " 'Huehuetoca',\n",
       " 'Hueypoxtla',\n",
       " 'Huixquilucan',\n",
       " 'Isidro Fabela',\n",
       " 'Ixtapaluca',\n",
       " 'Ixtapan de la Sal',\n",
       " 'Ixtapan del Oro',\n",
       " 'Ixtlahuaca',\n",
       " 'Jaltenco',\n",
       " 'Jilotepec',\n",
       " 'Jilotzingo',\n",
       " 'Jiquipilco',\n",
       " 'JocotitlÃ¡n',\n",
       " 'Joquicingo',\n",
       " 'Juchitepec',\n",
       " 'La Paz',\n",
       " 'Lerma',\n",
       " 'Luvianos',\n",
       " 'Malinalco',\n",
       " 'Melchor Ocampo',\n",
       " 'Metepec',\n",
       " 'Mexicaltzingo',\n",
       " 'Morelos',\n",
       " 'Naucalpan de JuÃ¡rez',\n",
       " 'Nextlalpan',\n",
       " 'NezahualcÃ³yotl',\n",
       " 'NicolÃ¡s Romero',\n",
       " 'Nopaltepec',\n",
       " 'Ocoyoacac',\n",
       " 'Ocuilan',\n",
       " 'Otumba',\n",
       " 'Otzoloapan',\n",
       " 'Otzolotepec',\n",
       " 'Ozumba',\n",
       " 'Papalotla',\n",
       " 'PolotitlÃ¡n',\n",
       " 'RayÃ³n',\n",
       " 'San Antonio la Isla',\n",
       " 'San Felipe del Progreso',\n",
       " 'San JosÃ© del RincÃ³n',\n",
       " 'San MartÃ\\xadn de las PirÃ¡mides',\n",
       " 'San Mateo Atenco',\n",
       " 'San SimÃ³n de Guerrero',\n",
       " 'Santo TomÃ¡s',\n",
       " 'Soyaniquilpan de JuÃ¡rez',\n",
       " 'Sultepec',\n",
       " 'TecÃ¡mac',\n",
       " 'Tejupilco',\n",
       " 'Temamatla',\n",
       " 'Temascalapa',\n",
       " 'Temascalcingo',\n",
       " 'Temascaltepec',\n",
       " 'Temoaya',\n",
       " 'Tenancingo',\n",
       " 'Tenango del Aire',\n",
       " 'Tenango del Valle',\n",
       " 'Teoloyucan',\n",
       " 'TeotihuacÃ¡n',\n",
       " 'Tepetlaoxtoc',\n",
       " 'Tepetlixpa',\n",
       " 'TepotzotlÃ¡n',\n",
       " 'Tequixquiac',\n",
       " 'TexcaltitlÃ¡n',\n",
       " 'Texcalyacac',\n",
       " 'Texcoco',\n",
       " 'Tezoyuca',\n",
       " 'Tianguistenco',\n",
       " 'Timilpan',\n",
       " 'Tlalmanalco',\n",
       " 'Tlalnepantla de Baz',\n",
       " 'Tlatlaya',\n",
       " 'Toluca',\n",
       " 'Tonanitla',\n",
       " 'Tonatico',\n",
       " 'Tultepec',\n",
       " 'TultitlÃ¡n',\n",
       " 'Valle de Bravo',\n",
       " 'Valle de Chalco Solidaridad',\n",
       " 'Villa de Allende',\n",
       " 'Villa del CarbÃ³n',\n",
       " 'Villa Guerrero',\n",
       " 'Villa Victoria',\n",
       " 'Xalatlaco',\n",
       " 'XonacatlÃ¡n',\n",
       " 'Zacazonapan',\n",
       " 'Zacualpan',\n",
       " 'Zinacantepec',\n",
       " 'ZumpahuacÃ¡n',\n",
       " 'Zumpango']"
      ]
     },
     "execution_count": 121,
     "metadata": {},
     "output_type": "execute_result"
    }
   ],
   "source": [
    "mun= [elemento.replace('.shp', '') for elemento in mun]\n",
    "mun"
   ]
  },
  {
   "cell_type": "code",
   "execution_count": 126,
   "id": "5e1c9bbb-3050-43b6-8d3b-2b4b65a26889",
   "metadata": {},
   "outputs": [
    {
     "data": {
      "text/plain": [
       "['Apt_M2A_RF_Class_MaizEdo_CanOE_ssp126_2021-2040.tif',\n",
       " 'Apt_M2A_RF_Class_MaizEdo_CanOE_ssp126_2041-2060.tif',\n",
       " 'Apt_M2A_RF_Class_MaizEdo_CanOE_ssp126_2061-2080.tif',\n",
       " 'Apt_M2A_RF_Class_MaizEdo_CanOE_ssp370_2021-2040.tif',\n",
       " 'Apt_M2A_RF_Class_MaizEdo_CanOE_ssp370_2041-2060.tif',\n",
       " 'Apt_M2A_RF_Class_MaizEdo_CanOE_ssp370_2061-2080.tif',\n",
       " 'Apt_M2A_RF_Class_MaizEdo_GDFL_ssp126_2021-2040.tif',\n",
       " 'Apt_M2A_RF_Class_MaizEdo_GDFL_ssp126_2041-2060.tif',\n",
       " 'Apt_M2A_RF_Class_MaizEdo_GDFL_ssp126_2061-2080.tif',\n",
       " 'Apt_M2A_RF_Class_MaizEdo_GDFL_ssp370_2021-2040.tif',\n",
       " 'Apt_M2A_RF_Class_MaizEdo_GDFL_ssp370_2041-2060.tif',\n",
       " 'Apt_M2A_RF_Class_MaizEdo_GDFL_ssp370_2061-370.tif']"
      ]
     },
     "execution_count": 126,
     "metadata": {},
     "output_type": "execute_result"
    }
   ],
   "source": [
    "ras= []\n",
    "for i in archivos_tif:\n",
    "    ras.append(i[25:])\n",
    "ras"
   ]
  },
  {
   "cell_type": "code",
   "execution_count": 141,
   "id": "1142eb63-5107-43fa-b097-8c2c5c07064a",
   "metadata": {},
   "outputs": [
    {
     "data": {
      "text/plain": [
       "['Apt_M2A_RF_Class_MaizEdo_CanOE_ssp126_2021-2040.tif',\n",
       " 'Apt_M2A_RF_Class_MaizEdo_CanOE_ssp126_2041-2060.tif',\n",
       " 'Apt_M2A_RF_Class_MaizEdo_CanOE_ssp126_2061-2080.tif',\n",
       " 'Apt_M2A_RF_Class_MaizEdo_CanOE_ssp370_2021-2040.tif',\n",
       " 'Apt_M2A_RF_Class_MaizEdo_CanOE_ssp370_2041-2060.tif',\n",
       " 'Apt_M2A_RF_Class_MaizEdo_CanOE_ssp370_2061-2080.tif',\n",
       " 'Apt_M2A_RF_Class_MaizEdo_GDFL_ssp126_2021-2040.tif',\n",
       " 'Apt_M2A_RF_Class_MaizEdo_GDFL_ssp126_2041-2060.tif',\n",
       " 'Apt_M2A_RF_Class_MaizEdo_GDFL_ssp126_2061-2080.tif',\n",
       " 'Apt_M2A_RF_Class_MaizEdo_GDFL_ssp370_2021-2040.tif',\n",
       " 'Apt_M2A_RF_Class_MaizEdo_GDFL_ssp370_2041-2060.tif',\n",
       " 'Apt_M2A_RF_Class_MaizEdo_GDFL_ssp370_2061-370.tif']"
      ]
     },
     "execution_count": 141,
     "metadata": {},
     "output_type": "execute_result"
    }
   ],
   "source": [
    "ras"
   ]
  },
  {
   "cell_type": "code",
   "execution_count": 144,
   "id": "02a426ef-0d74-4b98-98cb-d3234c774012",
   "metadata": {},
   "outputs": [
    {
     "data": {
      "text/plain": [
       "['Apt_M2A_CanOE_ssp126_2021-2040.tif',\n",
       " 'Apt_M2A_CanOE_ssp126_2041-2060.tif',\n",
       " 'Apt_M2A_CanOE_ssp126_2061-2080.tif',\n",
       " 'Apt_M2A_CanOE_ssp370_2021-2040.tif',\n",
       " 'Apt_M2A_CanOE_ssp370_2041-2060.tif',\n",
       " 'Apt_M2A_CanOE_ssp370_2061-2080.tif',\n",
       " 'Apt_M2A_GDFL_ssp126_2021-2040.tif',\n",
       " 'Apt_M2A_GDFL_ssp126_2041-2060.tif',\n",
       " 'Apt_M2A_GDFL_ssp126_2061-2080.tif',\n",
       " 'Apt_M2A_GDFL_ssp370_2021-2040.tif',\n",
       " 'Apt_M2A_GDFL_ssp370_2041-2060.tif',\n",
       " 'Apt_M2A_GDFL_ssp370_2061-370.tif']"
      ]
     },
     "execution_count": 144,
     "metadata": {},
     "output_type": "execute_result"
    }
   ],
   "source": [
    "ras= [x.replace('RF_Class_MaizEdo_', '') for x in ras]\n",
    "ras"
   ]
  },
  {
   "cell_type": "code",
   "execution_count": 150,
   "id": "36d6af0b-ee45-4b1d-9c60-1c714df278c9",
   "metadata": {},
   "outputs": [
    {
     "data": {
      "text/plain": [
       "1500"
      ]
     },
     "execution_count": 150,
     "metadata": {},
     "output_type": "execute_result"
    }
   ],
   "source": [
    "# lista_sumada = [m + f'_{r}' for r in ras for m in mun]\n",
    "# lista_sumada\n",
    "len(lista_sumada)"
   ]
  },
  {
   "cell_type": "code",
   "execution_count": 45,
   "id": "e61530ca-117f-41ca-93db-63b023d37a79",
   "metadata": {},
   "outputs": [],
   "source": [
    "raster= archivos_tif[0]\n",
    "shape= archivos_shape[0]\n",
    "out= 'E:/Prueba/Prueba1alv.tif'"
   ]
  },
  {
   "cell_type": "code",
   "execution_count": 38,
   "id": "8b1a5896-7f67-45c5-b68b-bdc091d131af",
   "metadata": {},
   "outputs": [],
   "source": [
    "import geemap"
   ]
  },
  {
   "cell_type": "code",
   "execution_count": 46,
   "id": "6990fb52-7656-43b6-9ba4-4b94b464e0c3",
   "metadata": {},
   "outputs": [],
   "source": [
    "geemap.clip_image(raster,shape,out)"
   ]
  },
  {
   "cell_type": "code",
   "execution_count": 80,
   "id": "33081cfd-bd0c-4187-b3d8-b46db5f8052f",
   "metadata": {},
   "outputs": [
    {
     "data": {
      "text/plain": [
       "'E:/Clip4Mun\\\\Zumpango.shp'"
      ]
     },
     "execution_count": 80,
     "metadata": {},
     "output_type": "execute_result"
    }
   ],
   "source": [
    "archivo"
   ]
  },
  {
   "cell_type": "code",
   "execution_count": 81,
   "id": "9df2ceaf-16d4-4f74-8fbb-9c73f4d70f08",
   "metadata": {},
   "outputs": [
    {
     "data": {
      "text/plain": [
       "['E:/Clip4Mun\\\\Acambay de RuÃ\\xadz CastaÃ±eda.tif',\n",
       " 'E:/Clip4Mun\\\\Acolman.tif',\n",
       " 'E:/Clip4Mun\\\\Aculco.tif',\n",
       " 'E:/Clip4Mun\\\\Almoloya de Alquisiras.tif',\n",
       " 'E:/Clip4Mun\\\\Almoloya de JuÃ¡rez.tif',\n",
       " 'E:/Clip4Mun\\\\Almoloya del RÃ\\xado.tif',\n",
       " 'E:/Clip4Mun\\\\Amanalco.tif',\n",
       " 'E:/Clip4Mun\\\\Amatepec.tif',\n",
       " 'E:/Clip4Mun\\\\Amecameca.tif',\n",
       " 'E:/Clip4Mun\\\\Apaxco.tif',\n",
       " 'E:/Clip4Mun\\\\Atenco.tif',\n",
       " 'E:/Clip4Mun\\\\AtizapÃ¡n de Zaragoza.tif',\n",
       " 'E:/Clip4Mun\\\\AtizapÃ¡n.tif',\n",
       " 'E:/Clip4Mun\\\\Atlacomulco.tif',\n",
       " 'E:/Clip4Mun\\\\Atlautla.tif',\n",
       " 'E:/Clip4Mun\\\\Axapusco.tif',\n",
       " 'E:/Clip4Mun\\\\Ayapango.tif',\n",
       " 'E:/Clip4Mun\\\\Calimaya.tif',\n",
       " 'E:/Clip4Mun\\\\Capulhuac.tif',\n",
       " 'E:/Clip4Mun\\\\Chalco.tif',\n",
       " 'E:/Clip4Mun\\\\Chapa de Mota.tif',\n",
       " 'E:/Clip4Mun\\\\Chapultepec.tif',\n",
       " 'E:/Clip4Mun\\\\Chiautla.tif',\n",
       " 'E:/Clip4Mun\\\\Chicoloapan.tif',\n",
       " 'E:/Clip4Mun\\\\Chiconcuac.tif',\n",
       " 'E:/Clip4Mun\\\\ChimalhuacÃ¡n.tif',\n",
       " 'E:/Clip4Mun\\\\Coacalco de BerriozÃ¡bal.tif',\n",
       " 'E:/Clip4Mun\\\\Coatepec Harinas.tif',\n",
       " 'E:/Clip4Mun\\\\CocotitlÃ¡n.tif',\n",
       " 'E:/Clip4Mun\\\\Coyotepec.tif',\n",
       " 'E:/Clip4Mun\\\\CuautitlÃ¡n Izcalli.tif',\n",
       " 'E:/Clip4Mun\\\\CuautitlÃ¡n.tif',\n",
       " 'E:/Clip4Mun\\\\Donato Guerra.tif',\n",
       " 'E:/Clip4Mun\\\\Ecatepec de Morelos.tif',\n",
       " 'E:/Clip4Mun\\\\Ecatzingo.tif',\n",
       " 'E:/Clip4Mun\\\\El Oro.tif',\n",
       " 'E:/Clip4Mun\\\\Huehuetoca.tif',\n",
       " 'E:/Clip4Mun\\\\Hueypoxtla.tif',\n",
       " 'E:/Clip4Mun\\\\Huixquilucan.tif',\n",
       " 'E:/Clip4Mun\\\\Isidro Fabela.tif',\n",
       " 'E:/Clip4Mun\\\\Ixtapaluca.tif',\n",
       " 'E:/Clip4Mun\\\\Ixtapan de la Sal.tif',\n",
       " 'E:/Clip4Mun\\\\Ixtapan del Oro.tif',\n",
       " 'E:/Clip4Mun\\\\Ixtlahuaca.tif',\n",
       " 'E:/Clip4Mun\\\\Jaltenco.tif',\n",
       " 'E:/Clip4Mun\\\\Jilotepec.tif',\n",
       " 'E:/Clip4Mun\\\\Jilotzingo.tif',\n",
       " 'E:/Clip4Mun\\\\Jiquipilco.tif',\n",
       " 'E:/Clip4Mun\\\\JocotitlÃ¡n.tif',\n",
       " 'E:/Clip4Mun\\\\Joquicingo.tif',\n",
       " 'E:/Clip4Mun\\\\Juchitepec.tif',\n",
       " 'E:/Clip4Mun\\\\La Paz.tif',\n",
       " 'E:/Clip4Mun\\\\Lerma.tif',\n",
       " 'E:/Clip4Mun\\\\Luvianos.tif',\n",
       " 'E:/Clip4Mun\\\\Malinalco.tif',\n",
       " 'E:/Clip4Mun\\\\Melchor Ocampo.tif',\n",
       " 'E:/Clip4Mun\\\\Metepec.tif',\n",
       " 'E:/Clip4Mun\\\\Mexicaltzingo.tif',\n",
       " 'E:/Clip4Mun\\\\Morelos.tif',\n",
       " 'E:/Clip4Mun\\\\Naucalpan de JuÃ¡rez.tif',\n",
       " 'E:/Clip4Mun\\\\Nextlalpan.tif',\n",
       " 'E:/Clip4Mun\\\\NezahualcÃ³yotl.tif',\n",
       " 'E:/Clip4Mun\\\\NicolÃ¡s Romero.tif',\n",
       " 'E:/Clip4Mun\\\\Nopaltepec.tif',\n",
       " 'E:/Clip4Mun\\\\Ocoyoacac.tif',\n",
       " 'E:/Clip4Mun\\\\Ocuilan.tif',\n",
       " 'E:/Clip4Mun\\\\Otumba.tif',\n",
       " 'E:/Clip4Mun\\\\Otzoloapan.tif',\n",
       " 'E:/Clip4Mun\\\\Otzolotepec.tif',\n",
       " 'E:/Clip4Mun\\\\Ozumba.tif',\n",
       " 'E:/Clip4Mun\\\\Papalotla.tif',\n",
       " 'E:/Clip4Mun\\\\PolotitlÃ¡n.tif',\n",
       " 'E:/Clip4Mun\\\\RayÃ³n.tif',\n",
       " 'E:/Clip4Mun\\\\San Antonio la Isla.tif',\n",
       " 'E:/Clip4Mun\\\\San Felipe del Progreso.tif',\n",
       " 'E:/Clip4Mun\\\\San JosÃ© del RincÃ³n.tif',\n",
       " 'E:/Clip4Mun\\\\San MartÃ\\xadn de las PirÃ¡mides.tif',\n",
       " 'E:/Clip4Mun\\\\San Mateo Atenco.tif',\n",
       " 'E:/Clip4Mun\\\\San SimÃ³n de Guerrero.tif',\n",
       " 'E:/Clip4Mun\\\\Santo TomÃ¡s.tif',\n",
       " 'E:/Clip4Mun\\\\Soyaniquilpan de JuÃ¡rez.tif',\n",
       " 'E:/Clip4Mun\\\\Sultepec.tif',\n",
       " 'E:/Clip4Mun\\\\TecÃ¡mac.tif',\n",
       " 'E:/Clip4Mun\\\\Tejupilco.tif',\n",
       " 'E:/Clip4Mun\\\\Temamatla.tif',\n",
       " 'E:/Clip4Mun\\\\Temascalapa.tif',\n",
       " 'E:/Clip4Mun\\\\Temascalcingo.tif',\n",
       " 'E:/Clip4Mun\\\\Temascaltepec.tif',\n",
       " 'E:/Clip4Mun\\\\Temoaya.tif',\n",
       " 'E:/Clip4Mun\\\\Tenancingo.tif',\n",
       " 'E:/Clip4Mun\\\\Tenango del Aire.tif',\n",
       " 'E:/Clip4Mun\\\\Tenango del Valle.tif',\n",
       " 'E:/Clip4Mun\\\\Teoloyucan.tif',\n",
       " 'E:/Clip4Mun\\\\TeotihuacÃ¡n.tif',\n",
       " 'E:/Clip4Mun\\\\Tepetlaoxtoc.tif',\n",
       " 'E:/Clip4Mun\\\\Tepetlixpa.tif',\n",
       " 'E:/Clip4Mun\\\\TepotzotlÃ¡n.tif',\n",
       " 'E:/Clip4Mun\\\\Tequixquiac.tif',\n",
       " 'E:/Clip4Mun\\\\TexcaltitlÃ¡n.tif',\n",
       " 'E:/Clip4Mun\\\\Texcalyacac.tif',\n",
       " 'E:/Clip4Mun\\\\Texcoco.tif',\n",
       " 'E:/Clip4Mun\\\\Tezoyuca.tif',\n",
       " 'E:/Clip4Mun\\\\Tianguistenco.tif',\n",
       " 'E:/Clip4Mun\\\\Timilpan.tif',\n",
       " 'E:/Clip4Mun\\\\Tlalmanalco.tif',\n",
       " 'E:/Clip4Mun\\\\Tlalnepantla de Baz.tif',\n",
       " 'E:/Clip4Mun\\\\Tlatlaya.tif',\n",
       " 'E:/Clip4Mun\\\\Toluca.tif',\n",
       " 'E:/Clip4Mun\\\\Tonanitla.tif',\n",
       " 'E:/Clip4Mun\\\\Tonatico.tif',\n",
       " 'E:/Clip4Mun\\\\Tultepec.tif',\n",
       " 'E:/Clip4Mun\\\\TultitlÃ¡n.tif',\n",
       " 'E:/Clip4Mun\\\\Valle de Bravo.tif',\n",
       " 'E:/Clip4Mun\\\\Valle de Chalco Solidaridad.tif',\n",
       " 'E:/Clip4Mun\\\\Villa de Allende.tif',\n",
       " 'E:/Clip4Mun\\\\Villa del CarbÃ³n.tif',\n",
       " 'E:/Clip4Mun\\\\Villa Guerrero.tif',\n",
       " 'E:/Clip4Mun\\\\Villa Victoria.tif',\n",
       " 'E:/Clip4Mun\\\\Xalatlaco.tif',\n",
       " 'E:/Clip4Mun\\\\XonacatlÃ¡n.tif',\n",
       " 'E:/Clip4Mun\\\\Zacazonapan.tif',\n",
       " 'E:/Clip4Mun\\\\Zacualpan.tif',\n",
       " 'E:/Clip4Mun\\\\Zinacantepec.tif',\n",
       " 'E:/Clip4Mun\\\\ZumpahuacÃ¡n.tif',\n",
       " 'E:/Clip4Mun\\\\Zumpango.tif']"
      ]
     },
     "execution_count": 81,
     "metadata": {},
     "output_type": "execute_result"
    }
   ],
   "source": [
    "# Utiliza la función replace para eliminar 'NOMGEO' de cada elemento en la lista\n",
    "outs = [archivo.replace('.shp', '.tif') for archivo in outs]\n",
    "outs"
   ]
  },
  {
   "cell_type": "code",
   "execution_count": 164,
   "id": "12aa2846-64ac-43bc-abfe-3bfa015f6887",
   "metadata": {},
   "outputs": [],
   "source": [
    "# Verifica que las listas archivos_shape y outs tienen el tamaño adecuado\n",
    "if len(archivos_shape) * len(archivos_tif) != len(outs):\n",
    "    raise ValueError(\"El tamaño de outs debe ser igual al tamaño de archivos_shape multiplicado por el tamaño de archivos_tif\")\n",
    "\n",
    "# Inicializa el índice para outs\n",
    "indice_outs = 0\n",
    "\n",
    "# Itera sobre los elementos en la lista archivos_tif\n",
    "for tif in archivos_tif:\n",
    "    # Itera sobre los elementos en la lista archivos_shape\n",
    "    for shape in archivos_shape:\n",
    "        # Usa geemap.clip_image() con la imagen y el shape\n",
    "        geemap.clip_image(tif, shape, outs[indice_outs])\n",
    "        \n",
    "        # Incrementa el índice para outs\n",
    "        indice_outs += 1"
   ]
  },
  {
   "cell_type": "code",
   "execution_count": null,
   "id": "ce2e6582-e75b-4e34-8e9f-fbad40d8bea0",
   "metadata": {},
   "outputs": [],
   "source": []
  }
 ],
 "metadata": {
  "kernelspec": {
   "display_name": "workshop",
   "language": "python",
   "name": "workshop"
  },
  "language_info": {
   "codemirror_mode": {
    "name": "ipython",
    "version": 3
   },
   "file_extension": ".py",
   "mimetype": "text/x-python",
   "name": "python",
   "nbconvert_exporter": "python",
   "pygments_lexer": "ipython3",
   "version": "3.9.16"
  }
 },
 "nbformat": 4,
 "nbformat_minor": 5
}
